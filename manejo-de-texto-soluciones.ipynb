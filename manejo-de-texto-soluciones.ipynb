{
 "cells": [
  {
   "cell_type": "markdown",
   "metadata": {},
   "source": [
    "<div style=\"text-align: right\">\n",
    "\n",
    "*Programming without an overall architecture or design in mind is like exploring a cave with only a flashlight: You don’t know where you’ve been, you don’t know where you’re going, and you don’t know quite where you are*.\n",
    "\n",
    "&mdash; Danny Thorpe\n",
    "</div>\n",
    "\n",
    "# Manejo de texto en Python\n",
    "\n",
    "## Cadenas de texto: la clase `str`\n",
    "\n",
    "En programación, es común referirse a los valores de texto como ***cadenas***, en ocasiones ***cadenas de texto*** o, en inglés, ***strings***, y Python las implementa en su clase `str`.\n",
    "\n",
    "Los valores literales de texto se especifican entre comillas (`\"`) o apóstrofes (`'`), de manera indistinta:"
   ]
  },
  {
   "cell_type": "code",
   "execution_count": 1,
   "metadata": {},
   "outputs": [
    {
     "data": {
      "text/plain": [
       "'Este es un ejemplo de texto entre comillas'"
      ]
     },
     "execution_count": 1,
     "metadata": {},
     "output_type": "execute_result"
    }
   ],
   "source": [
    "\"Este es un ejemplo de texto entre comillas\""
   ]
  },
  {
   "cell_type": "code",
   "execution_count": 2,
   "metadata": {},
   "outputs": [
    {
     "data": {
      "text/plain": [
       "'Este es otro ejemplo, en este caso, el texto está entre apóstrofes'"
      ]
     },
     "execution_count": 2,
     "metadata": {},
     "output_type": "execute_result"
    }
   ],
   "source": [
    "'Este es otro ejemplo, en este caso, el texto está entre apóstrofes'"
   ]
  },
  {
   "cell_type": "markdown",
   "metadata": {},
   "source": [
    "Esto facilita especificar literales de texto que, a su vez, contengan comillas o apóstrofes."
   ]
  },
  {
   "cell_type": "code",
   "execution_count": 3,
   "metadata": {},
   "outputs": [
    {
     "data": {
      "text/plain": [
       "\"McDonald's\""
      ]
     },
     "execution_count": 3,
     "metadata": {},
     "output_type": "execute_result"
    }
   ],
   "source": [
    "restaurante = \"McDonald's\"\n",
    "restaurante"
   ]
  },
  {
   "cell_type": "code",
   "execution_count": 4,
   "metadata": {},
   "outputs": [
    {
     "data": {
      "text/plain": [
       "'Fonda \"Doña Lucha\"'"
      ]
     },
     "execution_count": 4,
     "metadata": {},
     "output_type": "execute_result"
    }
   ],
   "source": [
    "otro_restaurante = 'Fonda \"Doña Lucha\"'\n",
    "otro_restaurante"
   ]
  },
  {
   "cell_type": "markdown",
   "metadata": {},
   "source": [
    "---\n",
    "\n",
    "El ejemplo anterior es de una cadena que contiene un apóstrofe, **modifica** la celda anterior para usar un ejemplo de una cadena literal que contenga comillas, como, por ejemplo: `Fonda \"Doña Lucha\"`.\n",
    "\n",
    "---"
   ]
  },
  {
   "cell_type": "markdown",
   "metadata": {},
   "source": [
    "Las literales de texto se pueden asignar a variables, que serán entonces variables de tipo texto (`str`):"
   ]
  },
  {
   "cell_type": "code",
   "execution_count": 5,
   "metadata": {},
   "outputs": [
    {
     "name": "stdout",
     "output_type": "stream",
     "text": [
      "ejemplo = Este es un ejemplo\n",
      "otro_ejemplo = Este es otro ejemplo\n"
     ]
    }
   ],
   "source": [
    "ejemplo = \"Este es un ejemplo\"\n",
    "otro_ejemplo = \"Este es otro ejemplo\"\n",
    "print(\"ejemplo =\", ejemplo)\n",
    "print(\"otro_ejemplo =\", otro_ejemplo)"
   ]
  },
  {
   "cell_type": "markdown",
   "metadata": {},
   "source": [
    "---\n",
    "**Contesta**: Observando las salidas de las celdas anteriores, ¿notas alguna diferencia entre las salidas cuando simplemente usas el nombre de la variable y cuando usas `print` para imprimir el valor?\n",
    "\n",
    "**Respuesta**: Cuando sólo se usa el nombre de la variable, el valor se imprime entre apóstrofes. Cuando se usa `print`, no se imprimen los apóstrofes.\n",
    "\n",
    "---"
   ]
  },
  {
   "cell_type": "markdown",
   "metadata": {},
   "source": [
    "## Operadores de texto: concatenación y replicación\n",
    "\n",
    "Los valores de texto se pueden unir con el operador `+`. A esta operación se le llama ***concatenación***."
   ]
  },
  {
   "cell_type": "code",
   "execution_count": 6,
   "metadata": {},
   "outputs": [
    {
     "data": {
      "text/plain": [
       "'Este es un ejemplo y Este es otro ejemplo'"
      ]
     },
     "execution_count": 6,
     "metadata": {},
     "output_type": "execute_result"
    }
   ],
   "source": [
    "combinado = ejemplo + \" y \" + otro_ejemplo\n",
    "combinado"
   ]
  },
  {
   "cell_type": "markdown",
   "metadata": {},
   "source": [
    "---\n",
    "\n",
    "**Contesta**: ¿En qué orden quedan las cadenas concatenadas?\n",
    "\n",
    "**Respuesta**: En el mismo orden en que se escriben en la expresión de concatenación.\n",
    "\n",
    "---"
   ]
  },
  {
   "cell_type": "markdown",
   "metadata": {},
   "source": [
    "También se pueden replicar con el operador `*`."
   ]
  },
  {
   "cell_type": "code",
   "execution_count": 7,
   "metadata": {},
   "outputs": [
    {
     "data": {
      "text/plain": [
       "'Este es un ejemploEste es un ejemploEste es un ejemplo'"
      ]
     },
     "execution_count": 7,
     "metadata": {},
     "output_type": "execute_result"
    }
   ],
   "source": [
    "varios = ejemplo * 3\n",
    "varios"
   ]
  },
  {
   "cell_type": "markdown",
   "metadata": {},
   "source": [
    "El operador `*` tiene precedencia sobre el operador `+` y se pueden utilizar paréntesis para modificar la prioridad."
   ]
  },
  {
   "cell_type": "code",
   "execution_count": 8,
   "metadata": {},
   "outputs": [
    {
     "data": {
      "text/plain": [
       "'Este es un ejemplo Este es un ejemplo Este es un ejemplo '"
      ]
     },
     "execution_count": 8,
     "metadata": {},
     "output_type": "execute_result"
    }
   ],
   "source": [
    "varios2 = (ejemplo + \" \") * 3\n",
    "varios2"
   ]
  },
  {
   "cell_type": "markdown",
   "metadata": {},
   "source": [
    "---\n",
    "\n",
    "**Contesta**: En los ejemplos anteriores, se está \"multiplicando\" (replicando) una cadena (`str`) por (`*`) un entero (`int`), ¿se puede cambiar el orden y poner primero el entero? \n",
    "\n",
    "**Respuesta**: Sí.\n",
    "\n",
    "---\n",
    "\n",
    "**Contesta**: ¿Se puede usar un número real (`float`) en lugar de un entero?\n",
    "\n",
    "**Respuesta**: No, genera un error.\n",
    "\n",
    "---"
   ]
  },
  {
   "cell_type": "markdown",
   "metadata": {},
   "source": [
    "## Longitud\n",
    "\n",
    "La longitud de una cadena (su número de caracteres) se puede obtener con la función `len`."
   ]
  },
  {
   "cell_type": "code",
   "execution_count": 9,
   "metadata": {},
   "outputs": [
    {
     "name": "stdout",
     "output_type": "stream",
     "text": [
      "La cadena 'Este es un ejemplo' tiene 18 caracteres.\n"
     ]
    }
   ],
   "source": [
    "longitud = len(ejemplo)\n",
    "print(\"La cadena '\" + ejemplo + \"' tiene\", longitud, \"caracteres.\")"
   ]
  },
  {
   "cell_type": "markdown",
   "metadata": {},
   "source": [
    "---\n",
    "\n",
    "**Contesta**: ¿La función `len` cuenta los espacios?\n",
    "\n",
    "**Respuesta**: Sí, cuenta todos los caracteres.\n",
    "\n",
    "---\n",
    "\n",
    "**Contesta**: ¿Cuenta las comillas que delimitan la literal de texto?\n",
    "\n",
    "**Respuesta**: No, ya que no forman parte del valor de la cadena.\n",
    "\n",
    "---"
   ]
  },
  {
   "cell_type": "markdown",
   "metadata": {},
   "source": [
    "## *Slicing* de caracteres\n",
    "\n",
    "Se puede acceder a los valores individuales de las cadenas mediante una técnica de indexado, que en Python se llama ***slicing***, que consiste en indicar, entre corchetes, la posición que se desea extraer."
   ]
  },
  {
   "cell_type": "code",
   "execution_count": 10,
   "metadata": {},
   "outputs": [
    {
     "data": {
      "text/plain": [
       "'s'"
      ]
     },
     "execution_count": 10,
     "metadata": {},
     "output_type": "execute_result"
    }
   ],
   "source": [
    "ejemplo = 'Este es un ejemplo'\n",
    "una_letra = ejemplo[6]\n",
    "una_letra"
   ]
  },
  {
   "cell_type": "markdown",
   "metadata": {},
   "source": [
    "El índice del primer carácter es `0` (cero)."
   ]
  },
  {
   "cell_type": "code",
   "execution_count": 11,
   "metadata": {},
   "outputs": [
    {
     "data": {
      "text/plain": [
       "'E'"
      ]
     },
     "execution_count": 11,
     "metadata": {},
     "output_type": "execute_result"
    }
   ],
   "source": [
    "primera_letra = ejemplo[0]\n",
    "primera_letra"
   ]
  },
  {
   "cell_type": "markdown",
   "metadata": {},
   "source": [
    "En consecuencia, el índice del último carácter será la longitud de la cadena menos uno."
   ]
  },
  {
   "cell_type": "code",
   "execution_count": 12,
   "metadata": {},
   "outputs": [
    {
     "data": {
      "text/plain": [
       "'o'"
      ]
     },
     "execution_count": 12,
     "metadata": {},
     "output_type": "execute_result"
    }
   ],
   "source": [
    "ultima_letra = ejemplo[len(ejemplo) - 1]\n",
    "ultima_letra"
   ]
  },
  {
   "cell_type": "markdown",
   "metadata": {},
   "source": [
    "---\n",
    "\n",
    "**Contesta**: ¿Por qué el índice del último carácter de la cadena es su longitud menos uno y no, simplemente, la longitud?\n",
    "\n",
    "**Respuesta**: Porque se comienza a contar en `0` en lugar de `1`.\n",
    "\n",
    "---"
   ]
  },
  {
   "cell_type": "markdown",
   "metadata": {},
   "source": [
    "Python permite también el indexado negativo: `-1` es la última posición; `-2`, la penúltima, y así, sucesivamente.\n",
    "\n",
    "Esto nos permite acceder de manera más concisa a los últimos elementos, sin necesidad de calcular la longitud de la cadena."
   ]
  },
  {
   "cell_type": "code",
   "execution_count": 13,
   "metadata": {},
   "outputs": [
    {
     "data": {
      "text/plain": [
       "'l'"
      ]
     },
     "execution_count": 13,
     "metadata": {},
     "output_type": "execute_result"
    }
   ],
   "source": [
    "penultima = ejemplo[-2]\n",
    "penultima"
   ]
  },
  {
   "cell_type": "markdown",
   "metadata": {},
   "source": [
    "## *Slicing* de rangos\n",
    "\n",
    "También se permite indexar rangos.\n",
    "\n",
    "Para esto, se indica, entre corchetes, la posición inicial, dos puntos (`:`) y la posición final."
   ]
  },
  {
   "cell_type": "code",
   "execution_count": 14,
   "metadata": {},
   "outputs": [
    {
     "data": {
      "text/plain": [
       "'ritmos'"
      ]
     },
     "execution_count": 14,
     "metadata": {},
     "output_type": "execute_result"
    }
   ],
   "source": [
    "texto = \"Algoritmos y Programación\"\n",
    "en_medio = texto[4:10]\n",
    "en_medio"
   ]
  },
  {
   "cell_type": "markdown",
   "metadata": {},
   "source": [
    "Observa que la subcadena incluye el elemento en la posición inicial y ***excluye*** el\n",
    "elemento en la ***posición final***.\n",
    "\n",
    "![Slicing](https://github.com/jz-ayp/manejo-de-texto/blob/main/assets/slices.png?raw=true \"Slicing\")\n",
    "\n",
    "Se pueden omitir los valores antes o después de los dos puntos.\n",
    "\n",
    "- Si se omite la posición inicial, se extraen caracteres desde el principio de la cadena."
   ]
  },
  {
   "cell_type": "code",
   "execution_count": 15,
   "metadata": {},
   "outputs": [
    {
     "data": {
      "text/plain": [
       "'Algo'"
      ]
     },
     "execution_count": 15,
     "metadata": {},
     "output_type": "execute_result"
    }
   ],
   "source": [
    "s1 = texto[:4]    # desde la posición 0 hasta la 3\n",
    "s1"
   ]
  },
  {
   "cell_type": "markdown",
   "metadata": {},
   "source": [
    "- Si se omite la posición final, se extraen caracteres hasta el final de la cadena."
   ]
  },
  {
   "cell_type": "code",
   "execution_count": 16,
   "metadata": {},
   "outputs": [
    {
     "data": {
      "text/plain": [
       "'ramación'"
      ]
     },
     "execution_count": 16,
     "metadata": {},
     "output_type": "execute_result"
    }
   ],
   "source": [
    "s2 = texto[17:]   # desde la posición 17 hasta el final\n",
    "s2"
   ]
  },
  {
   "cell_type": "markdown",
   "metadata": {},
   "source": [
    "- Si se omiten ambos, se extraen todos los caracteres."
   ]
  },
  {
   "cell_type": "code",
   "execution_count": 17,
   "metadata": {},
   "outputs": [
    {
     "data": {
      "text/plain": [
       "'Algoritmos y Programación'"
      ]
     },
     "execution_count": 17,
     "metadata": {},
     "output_type": "execute_result"
    }
   ],
   "source": [
    "s3 = texto[:]     # una copia de texto\n",
    "s3"
   ]
  },
  {
   "cell_type": "markdown",
   "metadata": {},
   "source": [
    "Se puede incluir un tercer parámetro después de otros dos puntos\n",
    "(`:`), que indica el paso (de cuántos en cuántos caracteres se extraen)."
   ]
  },
  {
   "cell_type": "code",
   "execution_count": 18,
   "metadata": {},
   "outputs": [
    {
     "data": {
      "text/plain": [
       "'imsyP'"
      ]
     },
     "execution_count": 18,
     "metadata": {},
     "output_type": "execute_result"
    }
   ],
   "source": [
    "s = 'Algoritmos y Programación'\n",
    "x = s[5:14:2] # Asigna 'imsyP' a x\n",
    "x"
   ]
  },
  {
   "cell_type": "markdown",
   "metadata": {},
   "source": [
    "---\n",
    "\n",
    "**Contesta**: ¿Qué ***posiciones*** extrajo la expresión de *slicing* de la celda de arriba para regresar la subcadena `\"imsyP\"`?\n",
    "\n",
    "**Respuesta**: Extrajo de la 5 a la 14 (excluyéndola), de 2 en 2, es decir, las posiciones 5, 7, 9, 11 y 13.\n",
    "\n",
    "---"
   ]
  },
  {
   "cell_type": "markdown",
   "metadata": {},
   "source": [
    "El paso puede ser negativo"
   ]
  },
  {
   "cell_type": "code",
   "execution_count": 19,
   "metadata": {},
   "outputs": [
    {
     "data": {
      "text/plain": [
       "'nóicamargorP y somtiroglA'"
      ]
     },
     "execution_count": 19,
     "metadata": {},
     "output_type": "execute_result"
    }
   ],
   "source": [
    "y = s[::-1] # Invierte la cadena s\n",
    "y"
   ]
  },
  {
   "cell_type": "markdown",
   "metadata": {},
   "source": [
    "---\n",
    "\n",
    "**Contesta**: En la siguiente celda se está usando la expresión `s[-1:0:-1]`, o sea, un *slicing* desde el último carácter hasta el primero con un paso negativo. Si ejecutas la celda, verás que no funciona, ¿por qué?\n",
    "\n",
    "**Respuesta**: Porque, en el *slicing*, la posición final se excluye. En este caso, la posición final es la 0, es decir, la primera, que se excluye y por eso falta la `\"A\"` en la cadena que se devuelve.\n",
    "\n",
    "---"
   ]
  },
  {
   "cell_type": "code",
   "execution_count": 20,
   "metadata": {},
   "outputs": [
    {
     "data": {
      "text/plain": [
       "'nóicamargorP y somtirogl'"
      ]
     },
     "execution_count": 20,
     "metadata": {},
     "output_type": "execute_result"
    }
   ],
   "source": [
    "s[-1:0:-1]"
   ]
  },
  {
   "cell_type": "markdown",
   "metadata": {},
   "source": [
    "## Algunas funciones de cadena\n",
    "\n",
    "Función  | Resultado \n",
    "---------|--------------------\n",
    "`chr(n)` |Regresa el carácter correspondiente al código Unicode (*code point*) `n`\n",
    "`ord(c)` |Regresa el código Unicode (*code point*) correspondiente al carácter `c`\n",
    "`len(s)` |Regresa la longitud de la cadena `s`\n",
    "`str(x)` |Regresa *una copia* del argumento `x` convertido en cadena\n",
    "`eval(s)`|Evalúa la expresión `s` y regresa su valor\n",
    "\n",
    "Las funciones de cadena se caracterizan ya sea porque alguno de sus argumentos son cadenas o porque regresan cadenas.\n",
    "\n",
    "Las computadoras almacenan la información, sean números, texto, imágenes, sonido o de cualquier otro tipo, en formato binario, que, en última instancia, se trata de un número expresado en base 2. En el caso de texto, existen tablas de equivalencia que asignan cada carácter a un número específico, a esta equivalencia hacen referencia los códigos (*code points*) que se mencionan en la tabla anterior.\n",
    "\n",
    "Los códigos correspondientes a las letras son consecutivos y concuerdan con su orden alfabético."
   ]
  },
  {
   "cell_type": "code",
   "execution_count": 21,
   "metadata": {},
   "outputs": [
    {
     "name": "stdout",
     "output_type": "stream",
     "text": [
      "Letra A: 65\n",
      "Letra B: 66\n",
      "Letra C: 67\n",
      "Letra D: 68\n"
     ]
    }
   ],
   "source": [
    "print(\"Letra A:\", ord(\"A\"))\n",
    "print(\"Letra B:\", ord(\"B\"))\n",
    "print(\"Letra C:\", ord(\"C\"))\n",
    "print(\"Letra D:\", ord(\"D\"))"
   ]
  },
  {
   "cell_type": "markdown",
   "metadata": {},
   "source": [
    "A excepción de la Ñ y otras letras que no son del alfabeto inglés."
   ]
  },
  {
   "cell_type": "code",
   "execution_count": 22,
   "metadata": {},
   "outputs": [
    {
     "name": "stdout",
     "output_type": "stream",
     "text": [
      "Letra Ñ: 209\n",
      "Letra Ç: 199\n"
     ]
    }
   ],
   "source": [
    "print(\"Letra Ñ:\", ord(\"Ñ\"))\n",
    "print(\"Letra Ç:\", ord(\"Ç\"))"
   ]
  },
  {
   "cell_type": "markdown",
   "metadata": {},
   "source": [
    "Esto nos permite calcular aritméticamente la siguiente letra, por ejemplo, entre otras operaciones aritméticas que se deseen realizar con letras."
   ]
  },
  {
   "cell_type": "code",
   "execution_count": 23,
   "metadata": {},
   "outputs": [
    {
     "name": "stdout",
     "output_type": "stream",
     "text": [
      "La letra que le sigue a la W es: X\n"
     ]
    }
   ],
   "source": [
    "print(\"La letra que le sigue a la W es:\", chr(ord(\"W\") + 1))"
   ]
  },
  {
   "cell_type": "markdown",
   "metadata": {},
   "source": [
    "El ejemplo de la celda anterior nos muestra el uso de la función `chr`, que podemos considerar como el inverso de `ord`, ya que regresa el carácter correspondiente al *code point* que se le indique.\n",
    "\n",
    "Hay que hacer notar que las letras minúsculas tienen sus propios códigos, diferentes a las mayúsculas."
   ]
  },
  {
   "cell_type": "code",
   "execution_count": 24,
   "metadata": {},
   "outputs": [
    {
     "name": "stdout",
     "output_type": "stream",
     "text": [
      "Letra a: 97\n",
      "Letra b: 98\n",
      "Letra c: 99\n",
      "Letra d: 100\n"
     ]
    }
   ],
   "source": [
    "print(\"Letra a:\", ord(\"a\"))\n",
    "print(\"Letra b:\", ord(\"b\"))\n",
    "print(\"Letra c:\", ord(\"c\"))\n",
    "print(\"Letra d:\", ord(\"d\"))"
   ]
  },
  {
   "cell_type": "markdown",
   "metadata": {},
   "source": [
    "Como dato curioso, puedes observar que la diferencia entre los códigos de una letra mayúscula y su minúscula es igual a 32, que, dicho sea de paso, es el código que corresponde al espacio."
   ]
  },
  {
   "cell_type": "code",
   "execution_count": 25,
   "metadata": {},
   "outputs": [
    {
     "data": {
      "text/plain": [
       "32"
      ]
     },
     "execution_count": 25,
     "metadata": {},
     "output_type": "execute_result"
    }
   ],
   "source": [
    "ord(\"a\") - ord(\"A\")"
   ]
  },
  {
   "cell_type": "code",
   "execution_count": 26,
   "metadata": {},
   "outputs": [
    {
     "data": {
      "text/plain": [
       "' '"
      ]
     },
     "execution_count": 26,
     "metadata": {},
     "output_type": "execute_result"
    }
   ],
   "source": [
    "chr(32)"
   ]
  },
  {
   "cell_type": "markdown",
   "metadata": {},
   "source": [
    "---\n",
    "\n",
    "**Experimenta** en la celda siguiente para comprobar que esta diferencia entre los códigos de diferentes letras, entre minúsculas y mayúsculas, se mantenga en 32.\n",
    "\n",
    "---"
   ]
  },
  {
   "cell_type": "code",
   "execution_count": 27,
   "metadata": {},
   "outputs": [
    {
     "name": "stdout",
     "output_type": "stream",
     "text": [
      "32\n",
      "32\n",
      "32\n"
     ]
    }
   ],
   "source": [
    "print(ord(\"x\") - ord(\"X\"))\n",
    "print(ord(\"j\") - ord(\"J\"))\n",
    "print(ord(\"ñ\") - ord(\"Ñ\"))"
   ]
  },
  {
   "cell_type": "markdown",
   "metadata": {},
   "source": [
    "---\n",
    "\n",
    "**Contesta**: ¿La diferencia de 32 entre los códigos de mayúsculas y minúsculas se mantiene para las letras que no son del alfabeto ingles, como la eñe?\n",
    "\n",
    "**Respuesta**: Sí, se mantiene.\n",
    "\n",
    "---"
   ]
  },
  {
   "cell_type": "markdown",
   "metadata": {},
   "source": [
    "---\n",
    "\n",
    "**Contesta**: ¿Cuál es mayor, el código de las letras mayúsculas o el de las minúsculas?\n",
    "\n",
    "**Respuesta**: Es mayor el código de las minúsculas, 32 unidades mayor.\n",
    "\n",
    "---"
   ]
  },
  {
   "cell_type": "markdown",
   "metadata": {},
   "source": [
    "## Algunos métodos de cadenas (métodos de la clase `str`)\n",
    "\n",
    "Además de poder operar con funciones sobre las cadenas, éstas, al ser objetos (como todo en Python), tienen ***métodos*** asociados.\n",
    "\n",
    "Podemos considerar a un método como una función propia de un objeto. No es algo externo que opera sobre el objeto, sino es algo que el objeto mismo sabe como hacer. Podrías pensar que `alimentar` sería una *función* que puedes aplicar a un `gato` pero `maullar` es un *método* del `gato`, algo que ya sabe hacer. (Baste con esta analogía, la programación orientada a objetos excede el alcance de este curso.)\n",
    "\n",
    "Estos son algunos métodos de las cadenas:\n",
    "\n",
    "Método      |Resultado\n",
    "------------|-----------------------------------\n",
    "`.lower()`  | Regresa una copia en minúsculas\n",
    "`.upper()`  | Regresa una copia en mayúsculas\n",
    "`.strip()`  | Regresa una copia sin espacios a derecha e izquierda\n",
    "`.isalpha()`| Verifica que todos los caracteres sean letras\n",
    "`.isdigit()`| Verifica que todos los caracteres sean dígitos\n",
    "`.islower()`| Verifica que todos los caracteres sean minúsculas\n",
    "`.isupper()`| Verifica que todos los caracteres sean mayúsculas\n",
    "\n",
    "Puedes consultar más métodos de la clase str en la documentación oficial: https://docs.python.org/3/library/stdtypes.html#string-methods\n",
    "\n",
    "A diferencia de las funciones que se llaman con la sintaxis:\n",
    "\n",
    "```Python\n",
    "función(cadena)\n",
    "```\n",
    "\n",
    "La sintaxis de los métodos es:\n",
    "\n",
    "```Python\n",
    "cadena.método(argumentos)\n",
    "```\n",
    "\n",
    "Es decir, se escribe el identificador de la variable de tipo texto, seguido de un punto, el nombre (identificador) del método y sus argumentos entre paréntesis. Algunos métodos no requieren argumentos. \n",
    "\n",
    "Por ejemplo, para \"convertir\" una cadena a minúsculas, no se requiere mayor información que la cadena que se desea convertir a minúsculas, pero como el método pertenece a la cadena, el método ya conoce el contenido (valor) de la cadena.\n"
   ]
  },
  {
   "cell_type": "code",
   "execution_count": 28,
   "metadata": {},
   "outputs": [
    {
     "name": "stdout",
     "output_type": "stream",
     "text": [
      "En mayúsculas: EN UN LUGAR DE LA MANCHA, DE CUYO NOMBRE NO QUIERO ACORDARME...\n",
      "En minúsculas: en un lugar de la mancha, de cuyo nombre no quiero acordarme...\n"
     ]
    }
   ],
   "source": [
    "ejemplo = \"En un lugar de La Mancha, de cuyo nombre no quiero acordarme...\"\n",
    "mayusculas = ejemplo.upper()\n",
    "minusculas = ejemplo.lower()\n",
    "print(\"En mayúsculas:\", mayusculas)\n",
    "print(\"En minúsculas:\", minusculas)"
   ]
  },
  {
   "cell_type": "markdown",
   "metadata": {},
   "source": [
    "***Nota importante***: En el párrafo anterior escribí \"convertir\" entre comillas. Los métodos, en general, no afectan el valor original de los objetos, por eso en la tabla la frase que usé es: \"regresa una copia...\".\n",
    "\n",
    "Esto lo podemos verificar, viendo que el valor de la variable original permanece sin cambios."
   ]
  },
  {
   "cell_type": "code",
   "execution_count": 29,
   "metadata": {},
   "outputs": [
    {
     "name": "stdout",
     "output_type": "stream",
     "text": [
      "En un lugar de La Mancha, de cuyo nombre no quiero acordarme...\n"
     ]
    }
   ],
   "source": [
    "print(ejemplo)"
   ]
  },
  {
   "cell_type": "markdown",
   "metadata": {},
   "source": [
    "Si queremos ***convertir*** la variable, podemos hacerlo asignando el resultado del método a la misma variable. *La conversión la hace la asignación*."
   ]
  },
  {
   "cell_type": "code",
   "execution_count": 30,
   "metadata": {},
   "outputs": [
    {
     "name": "stdout",
     "output_type": "stream",
     "text": [
      "EN UN LUGAR DE LA MANCHA, DE CUYO NOMBRE NO QUIERO ACORDARME...\n"
     ]
    }
   ],
   "source": [
    "ejemplo = ejemplo.upper()\n",
    "print(ejemplo)"
   ]
  },
  {
   "cell_type": "markdown",
   "metadata": {},
   "source": [
    "Los métodos de la clase `str` se pueden aplicar no solo a variables, sino a cualquier objeto de la clase, a cualquier cadena.\n",
    "\n",
    "Por ejemplo, a una literal."
   ]
  },
  {
   "cell_type": "code",
   "execution_count": 31,
   "metadata": {},
   "outputs": [
    {
     "data": {
      "text/plain": [
       "'UN PESCADITO SE FUE AL FONDO DEL MAR'"
      ]
     },
     "execution_count": 31,
     "metadata": {},
     "output_type": "execute_result"
    }
   ],
   "source": [
    "\"Un pescadito se fue al fondo del mar\".upper()"
   ]
  },
  {
   "cell_type": "markdown",
   "metadata": {},
   "source": [
    "O a una expresión, siempre que ésta regrese un valor de tipo `str`."
   ]
  },
  {
   "cell_type": "code",
   "execution_count": 32,
   "metadata": {},
   "outputs": [
    {
     "data": {
      "text/plain": [
       "'LA QUE MADRUGA TEMPRANO'"
      ]
     },
     "execution_count": 32,
     "metadata": {},
     "output_type": "execute_result"
    }
   ],
   "source": [
    "texto = \"Mi abuela Ana decía que no por mucho madrugar amanecía más temprano\"\n",
    "(texto[7:10] + texto[20:24] + texto[37:44] + texto[-9:]).upper()"
   ]
  },
  {
   "cell_type": "markdown",
   "metadata": {},
   "source": [
    "Algunos métodos sí requieren parámetros. Por ejemplo, para contar el número de veces que ocurre un carácter en una cadena, ademas de la cadena, necesitamos saber qué carácter se está buscando."
   ]
  },
  {
   "cell_type": "code",
   "execution_count": 33,
   "metadata": {},
   "outputs": [
    {
     "data": {
      "text/plain": [
       "10"
      ]
     },
     "execution_count": 33,
     "metadata": {},
     "output_type": "execute_result"
    }
   ],
   "source": [
    "# ¿Cuántas veces ocurre la letra \"a\" en el texto?\n",
    "texto.count(\"a\")"
   ]
  },
  {
   "cell_type": "markdown",
   "metadata": {},
   "source": [
    "---\n",
    "\n",
    "**Contesta**: En la celda de arriba, ¿se contaron todas las \"a\"? ¿Qué crees que pasó?\n",
    "\n",
    "**Respuesta**: No se contaron todas las \"a\". Faltaron dos: la mayúscula y la acentuada. El método sólo cuenta, estrictamente, la \"a\", minúscula y sin acento. Las otras son diferentes por tener *code points* diferentes.\n",
    "\n",
    "***Nota***: Posiblemente, la siguiente celda te pueda ayudar en tu respuesta.\n",
    "\n",
    "---"
   ]
  },
  {
   "cell_type": "code",
   "execution_count": 34,
   "metadata": {},
   "outputs": [
    {
     "name": "stdout",
     "output_type": "stream",
     "text": [
      "65 97 225\n"
     ]
    }
   ],
   "source": [
    "print(ord(\"A\"), ord(\"a\"), ord(\"á\"))"
   ]
  },
  {
   "cell_type": "markdown",
   "metadata": {},
   "source": [
    "---\n",
    "\n",
    "**Modifica** el código de la siguiente celda, convirtiendo el texto a minúsculas antes de intentar contar las \"a\". Verifica cómo cambia el resultado. (Incluir en la cuenta las \"a\" acentuadas, desafortunadamente, no es tan sencillo.)\n",
    "\n",
    "---"
   ]
  },
  {
   "cell_type": "code",
   "execution_count": 35,
   "metadata": {},
   "outputs": [
    {
     "data": {
      "text/plain": [
       "11"
      ]
     },
     "execution_count": 35,
     "metadata": {},
     "output_type": "execute_result"
    }
   ],
   "source": [
    "texto.lower().count(\"a\")"
   ]
  },
  {
   "cell_type": "markdown",
   "metadata": {},
   "source": [
    "De nuevo te recuerdo que puedes consultar más métodos de la clase str en la documentación oficial de Python: https://docs.python.org/3/library/stdtypes.html#string-methods."
   ]
  },
  {
   "cell_type": "markdown",
   "metadata": {},
   "source": [
    "# Ejercicio\n",
    "\n",
    "Codificar en la siguiente celda un programa para:\n",
    "\n",
    "- Solicitar nombre, apellido paterno, apellido materno y año de nacimiento de una\n",
    "persona.\n",
    "\n",
    "- Crear una clave de identificación (toda en mayúsculas) formada por:\n",
    "  - las primeras dos letras del apellido paterno,\n",
    "  - la primera y la tercera letras del apellido materno,\n",
    "  - la primera y la última letra del nombre y\n",
    "  - los últimos dos dígitos del año de nacimiento.\n",
    "\n",
    "- Dar salida a:\n",
    "  - el nombre completo de la persona, primero sus apellidos en mayúsculas, seguidos de una coma y su(s) nombre(s) con la primera letra de cada en mayúsculas y el resto en minúsculas, y\n",
    "  - La clave de identificación calculada.\n",
    "\n",
    "Por ejemplo, con las siguientes entradas:\n",
    "\n",
    "    Nombre: juan carlos\n",
    "    Apellido paterno: martínez\n",
    "    Apellido materno: gonzález\n",
    "    Año de nacimiento: 1996\n",
    "\n",
    "Se esperan las siguientes salidas:\n",
    "\n",
    "    Nombre: MARTÍNEZ GONZÁLEZ, Juan Carlos\n",
    "    Clave:  MAGNJS96\n",
    "\n",
    "***Nota***: Observa que no hay espacio entre los apellidos y la coma.\n",
    "\n",
    "***Tip***: Busca algún método que te facilite el trabajo en la documentación (tal vez comienza con \"t\")."
   ]
  },
  {
   "cell_type": "code",
   "execution_count": null,
   "metadata": {},
   "outputs": [
    {
     "name": "stdout",
     "output_type": "stream",
     "text": [
      "Nombre: MARTÍNEZ GONZÁLEZ, Juan Carlos\n",
      "Clave: MAGNJS96\n"
     ]
    }
   ],
   "source": [
    "# Entradas\n",
    "nombre = input(\"Nombre: \")\n",
    "ap_paterno = input(\"Apellido paterno: \")\n",
    "ap_materno = input(\"Apellido materno: \")\n",
    "anho_nacimiento = int(input(\"Año de nacimiento: \"))\n",
    "\n",
    "# Proceso\n",
    "# Contruir la clave\n",
    "# Las primeras dos letras del apellido paterno\n",
    "clave_paterno = ap_paterno[:2]\n",
    "# La primera y la tercera letras del apellido materno\n",
    "clave_materno = ap_materno[0] + ap_materno[2]\n",
    "# La primera y la última letra del nombre\n",
    "clave_nombre = nombre[0] + nombre[-1]\n",
    "# Los últimos dos dígitos del año de nacimiento\n",
    "clave_anho = str(anho_nacimiento)[-2:]\n",
    "# Concatenar todo\n",
    "clave = clave_paterno + clave_materno + clave_nombre + clave_anho\n",
    "# En mayúsculas\n",
    "clave = clave.upper()\n",
    "\n",
    "# Dar formato al nombre completo\n",
    "nombre_completo = ap_paterno.upper() + \" \" + ap_materno.upper() + \", \" + nombre.title()\n",
    "\n",
    "# Salidas\n",
    "print(\"Nombre:\", nombre_completo)\n",
    "print(\"Clave: \", clave)"
   ]
  }
 ],
 "metadata": {
  "kernelspec": {
   "display_name": "base",
   "language": "python",
   "name": "python3"
  },
  "language_info": {
   "codemirror_mode": {
    "name": "ipython",
    "version": 3
   },
   "file_extension": ".py",
   "mimetype": "text/x-python",
   "name": "python",
   "nbconvert_exporter": "python",
   "pygments_lexer": "ipython3",
   "version": "3.10.9"
  }
 },
 "nbformat": 4,
 "nbformat_minor": 2
}
